{
 "cells": [
  {
   "cell_type": "code",
   "execution_count": 1,
   "metadata": {},
   "outputs": [],
   "source": [
    "import win32com.client\n",
    "\n",
    "\n",
    "# 연결 여부 체크\n",
    "objCpCybos = win32com.client.Dispatch(\"CpUtil.CpCybos\")\n",
    "bConnect = objCpCybos.IsConnect\n",
    "if (bConnect == 0):\n",
    "    print(\"PLUS가 정상적으로 연결되지 않음. \")\n",
    "    exit()"
   ]
  },
  {
   "cell_type": "code",
   "execution_count": 2,
   "metadata": {},
   "outputs": [],
   "source": [
    "\n",
    "# 주문 초기화\n",
    "objTrade =  win32com.client.Dispatch(\"CpTrade.CpTdUtil\")\n",
    "\n",
    "initCheck = objTrade.TradeInit(0)\n",
    "\n",
    "if (initCheck != 0):\n",
    "    print(\"주문 초기화 실패\")\n",
    "    exit()\n"
   ]
  },
  {
   "cell_type": "code",
   "execution_count": 3,
   "metadata": {},
   "outputs": [
    {
     "name": "stdout",
     "output_type": "stream",
     "text": [
      "782349499 01\n"
     ]
    }
   ],
   "source": [
    "\n",
    "# 주식 매수 주문\n",
    "acc = objTrade.AccountNumber[0] #계좌번호\n",
    "accFlag = objTrade.GoodsList(acc, 1)  # 주식상품 구분\n",
    "print(acc, accFlag[0])\n",
    "objStockOrder = win32com.client.Dispatch(\"CpTrade.CpTd0311\")\n",
    "objStockOrder.SetInputValue(0, \"2\")   # 2: 매수\n",
    "objStockOrder.SetInputValue(1, acc )   #  계좌번호\n",
    "objStockOrder.SetInputValue(2, accFlag[0])   # 상품구분 - 주식 상품 중 첫번째\n",
    "objStockOrder.SetInputValue(3, \"A005930\")   # 종목코드 - 필요한 종목으로 변경 필요 \n",
    "objStockOrder.SetInputValue(4, 10)   # 매수수량 - 요청 수량으로 변경 필요 \n",
    "objStockOrder.SetInputValue(5, 10000)   # 주문단가 - 필요한 가격으로 변경 필요 \n",
    "objStockOrder.SetInputValue(7, \"0\")   # 주문 조건 구분 코드, 0: 기본 1: IOC 2:FOK\n",
    "objStockOrder.SetInputValue(8, \"01\")   # 주문호가 구분코드 - 01: 보통\n"
   ]
  },
  {
   "cell_type": "code",
   "execution_count": 4,
   "metadata": {},
   "outputs": [
    {
     "name": "stdout",
     "output_type": "stream",
     "text": [
      "주문요청 오류 2\n"
     ]
    }
   ],
   "source": [
    "# 매수 주문 요청\n",
    "nRet = objStockOrder.BlockRequest()\n",
    "if (nRet != 0) :\n",
    "    print(\"주문요청 오류\", nRet)    \n",
    "    # 0: 정상,  그 외 오류, 4: 주문요청제한 개수 초과 \n",
    "    exit()"
   ]
  },
  {
   "cell_type": "code",
   "execution_count": null,
   "metadata": {},
   "outputs": [],
   "source": [
    "rqStatus = objStockOrder.GetDibStatus()\n",
    "errMsg = objStockOrder.GetDibMsg1()\n",
    "if rqStatus != 0:\n",
    "    print(\"주문 실패: \", rqStatus, errMsg)\n",
    "    exit()\n"
   ]
  },
  {
   "cell_type": "code",
   "execution_count": null,
   "metadata": {},
   "outputs": [],
   "source": []
  },
  {
   "cell_type": "code",
   "execution_count": null,
   "metadata": {},
   "outputs": [],
   "source": []
  },
  {
   "cell_type": "code",
   "execution_count": null,
   "metadata": {},
   "outputs": [],
   "source": []
  },
  {
   "cell_type": "code",
   "execution_count": null,
   "metadata": {},
   "outputs": [],
   "source": []
  },
  {
   "cell_type": "code",
   "execution_count": null,
   "metadata": {},
   "outputs": [],
   "source": []
  },
  {
   "cell_type": "code",
   "execution_count": null,
   "metadata": {},
   "outputs": [],
   "source": []
  },
  {
   "cell_type": "code",
   "execution_count": null,
   "metadata": {},
   "outputs": [],
   "source": []
  }
 ],
 "metadata": {
  "kernelspec": {
   "display_name": "Python 3",
   "language": "python",
   "name": "python3"
  },
  "language_info": {
   "codemirror_mode": {
    "name": "ipython",
    "version": 3
   },
   "file_extension": ".py",
   "mimetype": "text/x-python",
   "name": "python",
   "nbconvert_exporter": "python",
   "pygments_lexer": "ipython3",
   "version": "3.5.6"
  }
 },
 "nbformat": 4,
 "nbformat_minor": 4
}
