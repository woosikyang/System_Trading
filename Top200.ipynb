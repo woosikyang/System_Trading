{
 "cells": [
  {
   "cell_type": "code",
   "execution_count": 1,
   "metadata": {
    "slideshow": {
     "slide_type": "-"
    }
   },
   "outputs": [],
   "source": [
    "import sys\n",
    "from PyQt5.QtWidgets import *\n",
    "import win32com.client\n",
    "\n",
    "\n",
    "# 설명: 당일 상승률 상위 200 종목을 가져와 현재가  실시간 조회하는 샘플\n",
    "# CpEvent: 실시간 현재가 수신 클래스\n",
    "# CpStockCur : 현재가 실시간 통신 클래스\n",
    "# Cp7043 : 상승률 상위 종목 통신 서비스 - 연속 조회를 통해 200 종목 가져옴\n",
    "# CpMarketEye: 복수 종목 조회 서비스 - 200 종목 현재가를 조회 함."
   ]
  },
  {
   "cell_type": "code",
   "execution_count": 2,
   "metadata": {},
   "outputs": [],
   "source": [
    "# CpEvent: 실시간 이벤트 수신 클래스\n",
    "class CpEvent:\n",
    "    def set_params(self, client):\n",
    "        self.client = client\n",
    "\n",
    "    def OnReceived(self):\n",
    "        code = self.client.GetHeaderValue(0)  # 초\n",
    "        name = self.client.GetHeaderValue(1)  # 초\n",
    "        timess = self.client.GetHeaderValue(18)  # 초\n",
    "        exFlag = self.client.GetHeaderValue(19)  # 예상체결 플래그\n",
    "        cprice = self.client.GetHeaderValue(13)  # 현재가\n",
    "        diff = self.client.GetHeaderValue(2)  # 대비\n",
    "        cVol = self.client.GetHeaderValue(17)  # 순간체결수량\n",
    "        vol = self.client.GetHeaderValue(9)  # 거래량\n",
    "\n",
    "        if (exFlag == ord('1')):  # 동시호가 시간 (예상체결)\n",
    "            print(\"실시간(예상체결)\", name, timess, \"*\", cprice, \"대비\", diff, \"체결량\", cVol, \"거래량\", vol)\n",
    "        elif (exFlag == ord('2')):  # 장중(체결)\n",
    "            print(\"실시간(장중 체결)\", name, timess, cprice, \"대비\", diff, \"체결량\", cVol, \"거래량\", vol)\n",
    "\n"
   ]
  },
  {
   "cell_type": "code",
   "execution_count": 8,
   "metadata": {},
   "outputs": [],
   "source": [
    "# CpStockCur: 실시간 현재가 요청 클래스\n",
    "class CpStockCur:\n",
    "    def Subscribe(self, code):\n",
    "        self.objStockCur = win32com.client.Dispatch(\"DsCbo1.StockCur\")\n",
    "        handler = win32com.client.WithEvents(self.objStockCur, CpEvent)\n",
    "        self.objStockCur.SetInputValue(0, code)\n",
    "        handler.set_params(self.objStockCur)\n",
    "        self.objStockCur.Subscribe()\n",
    "\n",
    "    def Unsubscribe(self):\n",
    "        self.objStockCur.Unsubscribe()"
   ]
  },
  {
   "cell_type": "code",
   "execution_count": 12,
   "metadata": {},
   "outputs": [],
   "source": [
    "# Cp7043 상승률 상위 요청 클래스\n",
    "class Cp7043:\n",
    "    def __init__(self):\n",
    "        # 통신 OBJECT 기본 세팅\n",
    "        self.objRq = win32com.client.Dispatch(\"CpSysDib.CpSvrNew7043\")\n",
    "        self.objRq.SetInputValue(0, ord('0'))  # 거래소 + 코스닥\n",
    "        self.objRq.SetInputValue(1, ord('2'))  # 상승\n",
    "        self.objRq.SetInputValue(2, ord('1'))  # 당일\n",
    "        self.objRq.SetInputValue(3, 21)  # 전일 대비 상위 순\n",
    "        self.objRq.SetInputValue(4, ord('1'))  # 관리 종목 제외\n",
    "        self.objRq.SetInputValue(5, ord('0'))  # 거래량 전체\n",
    "        self.objRq.SetInputValue(6, ord('0'))  # '표시 항목 선택 - '0': 시가대비\n",
    "        self.objRq.SetInputValue(7, 0)  # 등락율 시작\n",
    "        self.objRq.SetInputValue(8, 30)  # 등락율 끝\n",
    "\n",
    "    # 실제적인 7043 통신 처리\n",
    "    def rq7043(self, retcode,data):\n",
    "        self.objRq.BlockRequest()\n",
    "        # 현재가 통신 및 통신 에러 처리\n",
    "        rqStatus = self.objRq.GetDibStatus()\n",
    "        rqRet = self.objRq.GetDibMsg1()\n",
    "        print(\"통신상태\", rqStatus, rqRet)\n",
    "        if rqStatus != 0:\n",
    "            return False\n",
    "\n",
    "        cnt = self.objRq.GetHeaderValue(0)\n",
    "        cntTotal = self.objRq.GetHeaderValue(1)\n",
    "        print(cnt, cntTotal)\n",
    "        for i in range(cnt):\n",
    "            code = self.objRq.GetDataValue(0, i)  # 코드\n",
    "            retcode.append(code)\n",
    "            name = self.objRq.GetDataValue(1, i)  # 종목명\n",
    "            price = self.objRq.GetDataValue(2, i)  # 종목명\n",
    "            diffflag = self.objRq.GetDataValue(3, i) #\n",
    "            diff = self.objRq.GetDataValue(4, i)\n",
    "            rate = self.objRq.GetDataValue(5, i)\n",
    "            vol = self.objRq.GetDataValue(6, i)  # 거래량\n",
    "            #print(code, name, diffflag, diff, vol)\n",
    "            data.append((code, name, price, diffflag, diff, rate, vol))\n",
    "            if len(retcode) >= 200:  # 최대 200 종목만,\n",
    "                break\n",
    "        return data\n",
    "    \n",
    "    def Request(self, retCode,data):\n",
    "        self.rq7043(retCode,data)\n",
    "        # 연속 데이터 조회 - 200 개까지만.\n",
    "        while self.objRq.Continue:\n",
    "            (self.rq7043(retCode,data))\n",
    "            #print(len(retCode))\n",
    "            if len(retCode) >= 200:\n",
    "                break\n",
    "\n",
    "        # #7043 상승하락 서비스를 통해 받은 상승률 상위 200 종목\n",
    "        #size = len(retCode)\n",
    "        #for i in range(size):\n",
    "        #    print(retCode[i])\n",
    "        return True\n",
    "\n"
   ]
  },
  {
   "cell_type": "code",
   "execution_count": 5,
   "metadata": {},
   "outputs": [],
   "source": [
    "# CpMarketEye : 복수종목 현재가 통신 서비스\n",
    "class CpMarketEye_v2:\n",
    "    def Request(self, codes, rqField):\n",
    "        # 연결 여부 체크\n",
    "        objCpCybos = win32com.client.Dispatch(\"CpUtil.CpCybos\")\n",
    "        bConnect = objCpCybos.IsConnect\n",
    "        if (bConnect == 0):\n",
    "            print(\"PLUS가 정상적으로 연결되지 않음. \")\n",
    "            return False\n",
    "\n",
    "        # 관심종목 객체 구하기\n",
    "        objRq = win32com.client.Dispatch(\"CpSysDib.MarketEye\")\n",
    "        # 요청 필드 세팅 - 종목코드, 종목명, 시간, 대비부호, 대비, 현재가, 거래량\n",
    "        # rqField = [0,17, 1,2,3,4,10]\n",
    "        objRq.SetInputValue(0, rqField)  # 요청 필드\n",
    "        objRq.SetInputValue(1, codes)  # 종목코드 or 종목코드 리스트\n",
    "        objRq.BlockRequest()\n",
    "\n",
    "        # 현재가 통신 및 통신 에러 처리\n",
    "        rqStatus = objRq.GetDibStatus()\n",
    "        rqRet = objRq.GetDibMsg1()\n",
    "        print(\"통신상태\", rqStatus, rqRet)\n",
    "        if rqStatus != 0:\n",
    "            return False\n",
    "\n",
    "        cnt = objRq.GetHeaderValue(2)\n",
    "        \n",
    "        data = []\n",
    "        for i in range(cnt):\n",
    "            rpCode = objRq.GetDataValue(0, i)  # 코드\n",
    "            rpName = objRq.GetDataValue(1, i)  # 종목명\n",
    "            rpTime = objRq.GetDataValue(2, i)  # 시간\n",
    "            rpDiffFlag = objRq.GetDataValue(3, i)  # 대비부호\n",
    "            rpDiff = objRq.GetDataValue(4, i)  # 대비\n",
    "            rpCur = objRq.GetDataValue(5, i)  # 현재가\n",
    "            rpVol = objRq.GetDataValue(6, i)  # 거래량\n",
    "            print(rpCode, rpName, rpTime, rpDiffFlag, rpDiff, rpCur, rpVol)\n",
    "            data.append((rpCode, rpName, rpTime, rpDiffFlag, rpDiff, rpCur, rpVol))\n",
    "        return data\n",
    "\n",
    "\n",
    "# CpMarketEye : 복수종목 현재가 통신 서비스\n",
    "class CpMarketEye:\n",
    "    def Request(self, codes, rqField):\n",
    "        # 연결 여부 체크\n",
    "        objCpCybos = win32com.client.Dispatch(\"CpUtil.CpCybos\")\n",
    "        bConnect = objCpCybos.IsConnect\n",
    "        if (bConnect == 0):\n",
    "            print(\"PLUS가 정상적으로 연결되지 않음. \")\n",
    "            return False\n",
    "\n",
    "        # 관심종목 객체 구하기\n",
    "        objRq = win32com.client.Dispatch(\"CpSysDib.MarketEye\")\n",
    "        # 요청 필드 세팅 - 종목코드, 종목명, 시간, 대비부호, 대비, 현재가, 거래량\n",
    "        # rqField = [0,17, 1,2,3,4,10]\n",
    "        objRq.SetInputValue(0, rqField)  # 요청 필드\n",
    "        objRq.SetInputValue(1, codes)  # 종목코드 or 종목코드 리스트\n",
    "        objRq.BlockRequest()\n",
    "\n",
    "        # 현재가 통신 및 통신 에러 처리\n",
    "        rqStatus = objRq.GetDibStatus()\n",
    "        rqRet = objRq.GetDibMsg1()\n",
    "        print(\"통신상태\", rqStatus, rqRet)\n",
    "        if rqStatus != 0:\n",
    "            return False\n",
    "\n",
    "        cnt = objRq.GetHeaderValue(2)\n",
    "\n",
    "        for i in range(cnt):\n",
    "            rpCode = objRq.GetDataValue(0, i)  # 코드\n",
    "            rpName = objRq.GetDataValue(1, i)  # 종목명\n",
    "            rpTime = objRq.GetDataValue(2, i)  # 시간\n",
    "            rpDiffFlag = objRq.GetDataValue(3, i)  # 대비부호\n",
    "            rpDiff = objRq.GetDataValue(4, i)  # 대비\n",
    "            rpCur = objRq.GetDataValue(5, i)  # 현재가\n",
    "            rpVol = objRq.GetDataValue(6, i)  # 거래량\n",
    "            print(rpCode, rpName, rpTime, rpDiffFlag, rpDiff, rpCur, rpVol)\n",
    "\n",
    "        return True\n"
   ]
  },
  {
   "cell_type": "code",
   "execution_count": 6,
   "metadata": {},
   "outputs": [],
   "source": [
    "def StopSubscribe():\n",
    "    isSB = False\n",
    "    objCur = []\n",
    "    if isSB:\n",
    "        cnt = len(objCur)\n",
    "        for i in range(cnt):\n",
    "            objCur[i].Unsubscribe()\n",
    "        print(cnt, \"종목 실시간 해지되었음\")\n",
    "    isSB = False\n",
    "    objCur = []\n"
   ]
  },
  {
   "cell_type": "code",
   "execution_count": 13,
   "metadata": {},
   "outputs": [
    {
     "name": "stdout",
     "output_type": "stream",
     "text": [
      "통신상태 0 \n",
      "40 911\n",
      "통신상태 0 \n",
      "40 0\n",
      "통신상태 0 \n",
      "40 0\n",
      "통신상태 0 \n",
      "40 0\n",
      "통신상태 0 \n",
      "40 0\n"
     ]
    },
    {
     "data": {
      "text/plain": [
       "True"
      ]
     },
     "execution_count": 13,
     "metadata": {},
     "output_type": "execute_result"
    }
   ],
   "source": [
    "# 상승 200종목 가져오기\n",
    "codes = []\n",
    "data = []\n",
    "obj7043 = Cp7043()\n",
    "obj7043.Request(codes,data)"
   ]
  },
  {
   "cell_type": "code",
   "execution_count": 14,
   "metadata": {},
   "outputs": [
    {
     "data": {
      "text/plain": [
       "[('A069640', '한세엠케이', 9490, 49, 2190, 30.0, 19928706),\n",
       " ('A043100', '솔고바이오', 993, 49, 229, 29.969999313354492, 4658343),\n",
       " ('A212560', '네오오토', 9990, 49, 2300, 29.90999984741211, 3158405),\n",
       " ('A004835', '덕성우', 44200, 50, 7700, 21.100000381469727, 1646787),\n",
       " ('A053290', 'NE능률', 26500, 50, 4100, 18.299999237060547, 15843760),\n",
       " ('A010690', '화신', 10450, 50, 1550, 17.420000076293945, 21460634),\n",
       " ('A006345', '대원전선우', 8330, 50, 1080, 14.899999618530273, 1002410),\n",
       " ('A023810', '인팩', 19700, 50, 2300, 13.220000267028809, 1062644),\n",
       " ('A094860', '네오리진', 2280, 50, 260, 12.869999885559082, 12996471),\n",
       " ('A036170', '클라우드에어', 2730, 50, 300, 12.350000381469727, 39334470)]"
      ]
     },
     "execution_count": 14,
     "metadata": {},
     "output_type": "execute_result"
    }
   ],
   "source": [
    "# data -> 종목코드 / 종목명 / 현재가 / 대비플래그 / 대비 / 대비율(등락률) / 거래량\n",
    "# 상승200종목중\n",
    "\n",
    "data[:10]"
   ]
  },
  {
   "cell_type": "code",
   "execution_count": 82,
   "metadata": {},
   "outputs": [
    {
     "data": {
      "text/plain": [
       "200"
      ]
     },
     "execution_count": 82,
     "metadata": {},
     "output_type": "execute_result"
    }
   ],
   "source": [
    "len(data)"
   ]
  },
  {
   "cell_type": "code",
   "execution_count": 83,
   "metadata": {},
   "outputs": [
    {
     "data": {
      "text/plain": [
       "200"
      ]
     },
     "execution_count": 83,
     "metadata": {},
     "output_type": "execute_result"
    }
   ],
   "source": [
    "len(codes)"
   ]
  },
  {
   "cell_type": "code",
   "execution_count": 6,
   "metadata": {},
   "outputs": [],
   "source": [
    "def StopSubscribe():\n",
    "    isSB = False\n",
    "    objCur = []\n",
    "    if isSB:\n",
    "        cnt = len(objCur)\n",
    "        for i in range(cnt):\n",
    "            objCur[i].Unsubscribe()\n",
    "        print(cnt, \"종목 실시간 해지되었음\")\n",
    "    isSB = False\n",
    "    objCur = []\n",
    "\n",
    "\n",
    "def btnStart_clicked():\n",
    "    StopSubscribe()\n",
    "    codes = []\n",
    "    obj7043 = Cp7043()\n",
    "    if obj7043.Request(codes) == False:\n",
    "        return\n",
    "\n",
    "    print(\"상승종목 개수:\", len(codes))\n",
    "\n",
    "    # 요청 필드 배열 - 종목코드, 시간, 대비부호 대비, 현재가, 거래량, 종목명\n",
    "    rqField = [0, 1, 2, 3, 4, 10, 17]  # 요청 필드\n",
    "    objMarkeyeye = CpMarketEye()\n",
    "    if (objMarkeyeye.Request(codes, rqField) == False):\n",
    "        exit()\n",
    "    objCur = []\n",
    "    cnt = len(codes)\n",
    "    for i in range(cnt):\n",
    "        objCur.append(CpStockCur())\n",
    "        objCur[i].Subscribe(codes[i])\n",
    "\n",
    "    print(\"빼기빼기================-\")\n",
    "    print(cnt, \"종목 실시간 현재가 요청 시작\")\n",
    "    isSB = True"
   ]
  },
  {
   "cell_type": "code",
   "execution_count": null,
   "metadata": {},
   "outputs": [],
   "source": []
  },
  {
   "cell_type": "code",
   "execution_count": null,
   "metadata": {},
   "outputs": [],
   "source": []
  },
  {
   "cell_type": "code",
   "execution_count": null,
   "metadata": {},
   "outputs": [],
   "source": []
  },
  {
   "cell_type": "code",
   "execution_count": null,
   "metadata": {},
   "outputs": [],
   "source": []
  }
 ],
 "metadata": {
  "kernelspec": {
   "display_name": "Python 3",
   "language": "python",
   "name": "python3"
  },
  "language_info": {
   "codemirror_mode": {
    "name": "ipython",
    "version": 3
   },
   "file_extension": ".py",
   "mimetype": "text/x-python",
   "name": "python",
   "nbconvert_exporter": "python",
   "pygments_lexer": "ipython3",
   "version": "3.5.6"
  }
 },
 "nbformat": 4,
 "nbformat_minor": 4
}
