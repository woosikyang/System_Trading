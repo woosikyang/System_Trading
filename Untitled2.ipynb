{
 "cells": [
  {
   "cell_type": "code",
   "execution_count": 1,
   "metadata": {},
   "outputs": [],
   "source": [
    "# 설명: 당일 상승률 상위 200 종목을 가져와 특정 조건에 맞는 종목 사는 샘플\n",
    "# CpEvent: 실시간 현재가 수신 클래스\n",
    "# CpStockCur : 현재가 실시간 통신 클래스\n",
    "# Cp7043 : 상승률 상위 종목 통신 서비스 - 연속 조회를 통해 200 종목 가져옴\n",
    "# CpMarketEye: 복수 종목 조회 서비스 - 200 종목 현재가를 조회 함."
   ]
  },
  {
   "cell_type": "code",
   "execution_count": null,
   "metadata": {},
   "outputs": [],
   "source": [
    "import sys\n",
    "from PyQt5.QtWidgets import *\n",
    "import win32com.client"
   ]
  },
  {
   "cell_type": "code",
   "execution_count": null,
   "metadata": {},
   "outputs": [],
   "source": [
    "# CpEvent: 실시간 이벤트 수신 클래스\n",
    "class CpEvent:\n",
    "    def set_params(self, client):\n",
    "        self.client = client\n",
    "\n",
    "    def OnReceived(self):\n",
    "        code = self.client.GetHeaderValue(0)  # 초\n",
    "        name = self.client.GetHeaderValue(1)  # 초\n",
    "        timess = self.client.GetHeaderValue(18)  # 초\n",
    "        exFlag = self.client.GetHeaderValue(19)  # 예상체결 플래그\n",
    "        cprice = self.client.GetHeaderValue(13)  # 현재가\n",
    "        diff = self.client.GetHeaderValue(2)  # 대비\n",
    "        cVol = self.client.GetHeaderValue(17)  # 순간체결수량\n",
    "        vol = self.client.GetHeaderValue(9)  # 거래량\n",
    "\n",
    "        if (exFlag == ord('1')):  # 동시호가 시간 (예상체결)\n",
    "            print(\"실시간(예상체결)\", name, timess, \"*\", cprice, \"대비\", diff, \"체결량\", cVol, \"거래량\", vol)\n",
    "        elif (exFlag == ord('2')):  # 장중(체결)\n",
    "            print(\"실시간(장중 체결)\", name, timess, cprice, \"대비\", diff, \"체결량\", cVol, \"거래량\", vol)\n",
    "\n",
    "# CpStockCur: 실시간 현재가 요청 클래스\n",
    "class CpStockCur:\n",
    "    def Subscribe(self, code):\n",
    "        self.objStockCur = win32com.client.Dispatch(\"DsCbo1.StockCur\")\n",
    "        handler = win32com.client.WithEvents(self.objStockCur, CpEvent)\n",
    "        self.objStockCur.SetInputValue(0, code)\n",
    "        handler.set_params(self.objStockCur)\n",
    "        self.objStockCur.Subscribe()\n",
    "\n",
    "    def Unsubscribe(self):\n",
    "        self.objStockCur.Unsubscribe()\n",
    "        \n",
    "# Cp7043 상승률 상위 요청 클래스\n",
    "class Cp7043:\n",
    "    def __init__(self):\n",
    "        # 통신 OBJECT 기본 세팅\n",
    "        self.objRq = win32com.client.Dispatch(\"CpSysDib.CpSvrNew7043\")\n",
    "        self.objRq.SetInputValue(0, ord('0'))  # 거래소 + 코스닥\n",
    "        self.objRq.SetInputValue(1, ord('2'))  # 상승\n",
    "        self.objRq.SetInputValue(2, ord('1'))  # 당일\n",
    "        self.objRq.SetInputValue(3, 21)  # 전일 대비 상위 순\n",
    "        self.objRq.SetInputValue(4, ord('1'))  # 관리 종목 제외\n",
    "        self.objRq.SetInputValue(5, ord('0'))  # 거래량 전체\n",
    "        self.objRq.SetInputValue(6, ord('0'))  # '표시 항목 선택 - '0': 시가대비\n",
    "        self.objRq.SetInputValue(7, 0)  # 등락율 시작\n",
    "        self.objRq.SetInputValue(8, 30)  # 등락율 끝\n",
    "\n",
    "    # 실제적인 7043 통신 처리\n",
    "    def rq7043(self, retcode,data):\n",
    "        self.objRq.BlockRequest()\n",
    "        # 현재가 통신 및 통신 에러 처리\n",
    "        rqStatus = self.objRq.GetDibStatus()\n",
    "        rqRet = self.objRq.GetDibMsg1()\n",
    "        print(\"통신상태\", rqStatus, rqRet)\n",
    "        if rqStatus != 0:\n",
    "            return False\n",
    "\n",
    "        cnt = self.objRq.GetHeaderValue(0)\n",
    "        cntTotal = self.objRq.GetHeaderValue(1)\n",
    "        print(cnt, cntTotal)\n",
    "        for i in range(cnt):\n",
    "            code = self.objRq.GetDataValue(0, i)  # 코드\n",
    "            retcode.append(code)\n",
    "            name = self.objRq.GetDataValue(1, i)  # 종목명\n",
    "            diffflag = self.objRq.GetDataValue(3, i) # 대비플래그\n",
    "            diff = self.objRq.GetDataValue(4, i) # 대비\n",
    "            rate = self.objRq.GetDataValue(5, i) # 대비율(등락률)\n",
    "            vol = self.objRq.GetDataValue(6, i)  # 거래량\n",
    "            #print(code, name, diffflag, diff, vol)\n",
    "            data.append((code, name, diffflag, diff, rate, vol))\n",
    "            if len(retcode) >= 200:  # 최대 200 종목만,\n",
    "                break\n",
    "        return data\n",
    "    \n",
    "    def Request(self, retCode,data):\n",
    "        self.rq7043(retCode,data)\n",
    "        # 연속 데이터 조회 - 200 개까지만.\n",
    "        while self.objRq.Continue:\n",
    "            (self.rq7043(retCode,data))\n",
    "            #print(len(retCode))\n",
    "            if len(retCode) >= 200:\n",
    "                break\n",
    "\n",
    "        # #7043 상승하락 서비스를 통해 받은 상승률 상위 200 종목\n",
    "        #size = len(retCode)\n",
    "        #for i in range(size):\n",
    "        #    print(retCode[i])\n",
    "        return True\n",
    "\n"
   ]
  },
  {
   "cell_type": "code",
   "execution_count": null,
   "metadata": {},
   "outputs": [],
   "source": []
  },
  {
   "cell_type": "code",
   "execution_count": null,
   "metadata": {},
   "outputs": [],
   "source": []
  },
  {
   "cell_type": "code",
   "execution_count": null,
   "metadata": {},
   "outputs": [],
   "source": []
  },
  {
   "cell_type": "code",
   "execution_count": null,
   "metadata": {},
   "outputs": [],
   "source": []
  },
  {
   "cell_type": "code",
   "execution_count": null,
   "metadata": {},
   "outputs": [],
   "source": []
  },
  {
   "cell_type": "code",
   "execution_count": null,
   "metadata": {},
   "outputs": [],
   "source": []
  },
  {
   "cell_type": "code",
   "execution_count": null,
   "metadata": {},
   "outputs": [],
   "source": []
  },
  {
   "cell_type": "code",
   "execution_count": null,
   "metadata": {},
   "outputs": [],
   "source": []
  },
  {
   "cell_type": "code",
   "execution_count": null,
   "metadata": {},
   "outputs": [],
   "source": []
  },
  {
   "cell_type": "code",
   "execution_count": null,
   "metadata": {},
   "outputs": [],
   "source": []
  },
  {
   "cell_type": "code",
   "execution_count": null,
   "metadata": {},
   "outputs": [],
   "source": []
  },
  {
   "cell_type": "code",
   "execution_count": null,
   "metadata": {},
   "outputs": [],
   "source": []
  },
  {
   "cell_type": "code",
   "execution_count": null,
   "metadata": {},
   "outputs": [],
   "source": []
  },
  {
   "cell_type": "code",
   "execution_count": null,
   "metadata": {},
   "outputs": [],
   "source": []
  }
 ],
 "metadata": {
  "kernelspec": {
   "display_name": "Python 3",
   "language": "python",
   "name": "python3"
  },
  "language_info": {
   "codemirror_mode": {
    "name": "ipython",
    "version": 3
   },
   "file_extension": ".py",
   "mimetype": "text/x-python",
   "name": "python",
   "nbconvert_exporter": "python",
   "pygments_lexer": "ipython3",
   "version": "3.5.6"
  }
 },
 "nbformat": 4,
 "nbformat_minor": 4
}
